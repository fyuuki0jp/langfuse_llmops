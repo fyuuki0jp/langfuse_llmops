{
 "cells": [
  {
   "cell_type": "code",
   "execution_count": 1,
   "metadata": {},
   "outputs": [
    {
     "name": "stderr",
     "output_type": "stream",
     "text": [
      "/workspaces/langfuse_llmops/.venv/lib/python3.12/site-packages/tqdm/auto.py:21: TqdmWarning: IProgress not found. Please update jupyter and ipywidgets. See https://ipywidgets.readthedocs.io/en/stable/user_install.html\n",
      "  from .autonotebook import tqdm as notebook_tqdm\n"
     ]
    }
   ],
   "source": [
    "# 必要なライブラリの読み込み\n",
    "import os\n",
    "from uuid import uuid4\n",
    "from langchain_google_genai import ChatGoogleGenerativeAI\n",
    "from langfuse.callback import CallbackHandler\n",
    "import dotenv"
   ]
  },
  {
   "cell_type": "code",
   "execution_count": 2,
   "metadata": {},
   "outputs": [
    {
     "data": {
      "text/plain": [
       "True"
      ]
     },
     "execution_count": 2,
     "metadata": {},
     "output_type": "execute_result"
    }
   ],
   "source": [
    "# 環境変数の読み見込み\n",
    "dotenv.load_dotenv(verbose=True)"
   ]
  },
  {
   "cell_type": "code",
   "execution_count": 3,
   "metadata": {},
   "outputs": [],
   "source": [
    "# langfuseの接続設定(langchain編)\n",
    "langfuse_handler = CallbackHandler(\n",
    "    public_key=os.environ[\"LANGFUSE_PUBLIC_KEY\"], \n",
    "    secret_key=os.environ[\"LANGFUSE_SECRET_KEY\"],\n",
    "    host=os.environ[\"LANGFUSE_HOST\"],\n",
    "    session_id=str(uuid4())[:8]\n",
    ")"
   ]
  },
  {
   "cell_type": "code",
   "execution_count": 4,
   "metadata": {},
   "outputs": [
    {
     "name": "stdout",
     "output_type": "stream",
     "text": [
      "こんにちは！\n",
      "\n",
      "何かご質問はありますか？\n",
      "\n"
     ]
    }
   ],
   "source": [
    "# llmを動かしてトラッキングできているか確認\n",
    "model = ChatGoogleGenerativeAI(model=\"gemini-1.5-pro\")\n",
    "result = model.invoke(\"こんにちは\", config={\"callbacks\": [langfuse_handler]})\n",
    "print(result.content)"
   ]
  }
 ],
 "metadata": {
  "kernelspec": {
   "display_name": ".venv",
   "language": "python",
   "name": "python3"
  },
  "language_info": {
   "codemirror_mode": {
    "name": "ipython",
    "version": 3
   },
   "file_extension": ".py",
   "mimetype": "text/x-python",
   "name": "python",
   "nbconvert_exporter": "python",
   "pygments_lexer": "ipython3",
   "version": "3.12.7"
  }
 },
 "nbformat": 4,
 "nbformat_minor": 2
}
